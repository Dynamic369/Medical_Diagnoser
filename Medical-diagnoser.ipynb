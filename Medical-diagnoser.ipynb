{
  "nbformat": 4,
  "nbformat_minor": 0,
  "metadata": {
    "colab": {
      "provenance": [],
      "gpuType": "T4",
      "authorship_tag": "ABX9TyNWEirv2yz05B/q1U93k3XR",
      "include_colab_link": true
    },
    "kernelspec": {
      "name": "python3",
      "display_name": "Python 3"
    },
    "language_info": {
      "name": "python"
    },
    "accelerator": "GPU"
  },
  "cells": [
    {
      "cell_type": "markdown",
      "metadata": {
        "id": "view-in-github",
        "colab_type": "text"
      },
      "source": [
        "<a href=\"https://colab.research.google.com/github/Dynamic369/Medical_Diagnoser/blob/main/Medical-diagnoser.ipynb\" target=\"_parent\"><img src=\"https://colab.research.google.com/assets/colab-badge.svg\" alt=\"Open In Colab\"/></a>"
      ]
    },
    {
      "cell_type": "code",
      "execution_count": 2,
      "metadata": {
        "id": "k2mW7LnBrt_N"
      },
      "outputs": [],
      "source": [
        "import pandas as pd\n",
        "import numpy as np\n",
        "from tensorflow.keras.preprocessing.text import Tokenizer\n",
        "from tensorflow.keras.preprocessing.sequence import pad_sequences\n",
        "from tensorflow.keras.utils import to_categorical\n",
        "from sklearn.preprocessing import LabelEncoder\n",
        "from tensorflow.keras.models import Model\n",
        "from tensorflow.keras.layers import Input, Embedding, LSTM, Dense"
      ]
    },
    {
      "cell_type": "markdown",
      "source": [
        "### 1. Loading the dataset"
      ],
      "metadata": {
        "id": "khRf7u_Rs-YU"
      }
    },
    {
      "cell_type": "code",
      "source": [
        "#Loading the dataset\n",
        "data = pd.read_csv('https://raw.githubusercontent.com/adil200/Medical-Diagnoser/main/medical_data.csv')\n",
        "data.head()"
      ],
      "metadata": {
        "id": "QQu3l8O-po7R",
        "outputId": "1573992c-982a-47dd-a1d5-f1dc91e822f6",
        "colab": {
          "base_uri": "https://localhost:8080/",
          "height": 206
        }
      },
      "execution_count": 3,
      "outputs": [
        {
          "output_type": "execute_result",
          "data": {
            "text/plain": [
              "                                     Patient_Problem  \\\n",
              "0  Constant fatigue and muscle weakness, struggli...   \n",
              "1  Frequent severe migraines, sensitivity to ligh...   \n",
              "2  Sudden weight gain and feeling cold, especiall...   \n",
              "3  High fever, sore throat, and swollen lymph nod...   \n",
              "4  Excessive thirst and frequent urination, dry m...   \n",
              "\n",
              "                    Disease                                       Prescription  \n",
              "0  Chronic Fatigue Syndrome  Cognitive behavioral therapy, graded exercise ...  \n",
              "1        Migraine with Aura  Prescription triptans, avoid triggers like bri...  \n",
              "2            Hypothyroidism  Levothyroxine to regulate thyroid hormone levels.  \n",
              "3             Mononucleosis            Rest and hydration, ibuprofen for pain.  \n",
              "4         Diabetes Mellitus             Insulin therapy and lifestyle changes.  "
            ],
            "text/html": [
              "\n",
              "  <div id=\"df-54686e63-70fe-4d34-9dce-1ec4077d092d\" class=\"colab-df-container\">\n",
              "    <div>\n",
              "<style scoped>\n",
              "    .dataframe tbody tr th:only-of-type {\n",
              "        vertical-align: middle;\n",
              "    }\n",
              "\n",
              "    .dataframe tbody tr th {\n",
              "        vertical-align: top;\n",
              "    }\n",
              "\n",
              "    .dataframe thead th {\n",
              "        text-align: right;\n",
              "    }\n",
              "</style>\n",
              "<table border=\"1\" class=\"dataframe\">\n",
              "  <thead>\n",
              "    <tr style=\"text-align: right;\">\n",
              "      <th></th>\n",
              "      <th>Patient_Problem</th>\n",
              "      <th>Disease</th>\n",
              "      <th>Prescription</th>\n",
              "    </tr>\n",
              "  </thead>\n",
              "  <tbody>\n",
              "    <tr>\n",
              "      <th>0</th>\n",
              "      <td>Constant fatigue and muscle weakness, struggli...</td>\n",
              "      <td>Chronic Fatigue Syndrome</td>\n",
              "      <td>Cognitive behavioral therapy, graded exercise ...</td>\n",
              "    </tr>\n",
              "    <tr>\n",
              "      <th>1</th>\n",
              "      <td>Frequent severe migraines, sensitivity to ligh...</td>\n",
              "      <td>Migraine with Aura</td>\n",
              "      <td>Prescription triptans, avoid triggers like bri...</td>\n",
              "    </tr>\n",
              "    <tr>\n",
              "      <th>2</th>\n",
              "      <td>Sudden weight gain and feeling cold, especiall...</td>\n",
              "      <td>Hypothyroidism</td>\n",
              "      <td>Levothyroxine to regulate thyroid hormone levels.</td>\n",
              "    </tr>\n",
              "    <tr>\n",
              "      <th>3</th>\n",
              "      <td>High fever, sore throat, and swollen lymph nod...</td>\n",
              "      <td>Mononucleosis</td>\n",
              "      <td>Rest and hydration, ibuprofen for pain.</td>\n",
              "    </tr>\n",
              "    <tr>\n",
              "      <th>4</th>\n",
              "      <td>Excessive thirst and frequent urination, dry m...</td>\n",
              "      <td>Diabetes Mellitus</td>\n",
              "      <td>Insulin therapy and lifestyle changes.</td>\n",
              "    </tr>\n",
              "  </tbody>\n",
              "</table>\n",
              "</div>\n",
              "    <div class=\"colab-df-buttons\">\n",
              "\n",
              "  <div class=\"colab-df-container\">\n",
              "    <button class=\"colab-df-convert\" onclick=\"convertToInteractive('df-54686e63-70fe-4d34-9dce-1ec4077d092d')\"\n",
              "            title=\"Convert this dataframe to an interactive table.\"\n",
              "            style=\"display:none;\">\n",
              "\n",
              "  <svg xmlns=\"http://www.w3.org/2000/svg\" height=\"24px\" viewBox=\"0 -960 960 960\">\n",
              "    <path d=\"M120-120v-720h720v720H120Zm60-500h600v-160H180v160Zm220 220h160v-160H400v160Zm0 220h160v-160H400v160ZM180-400h160v-160H180v160Zm440 0h160v-160H620v160ZM180-180h160v-160H180v160Zm440 0h160v-160H620v160Z\"/>\n",
              "  </svg>\n",
              "    </button>\n",
              "\n",
              "  <style>\n",
              "    .colab-df-container {\n",
              "      display:flex;\n",
              "      gap: 12px;\n",
              "    }\n",
              "\n",
              "    .colab-df-convert {\n",
              "      background-color: #E8F0FE;\n",
              "      border: none;\n",
              "      border-radius: 50%;\n",
              "      cursor: pointer;\n",
              "      display: none;\n",
              "      fill: #1967D2;\n",
              "      height: 32px;\n",
              "      padding: 0 0 0 0;\n",
              "      width: 32px;\n",
              "    }\n",
              "\n",
              "    .colab-df-convert:hover {\n",
              "      background-color: #E2EBFA;\n",
              "      box-shadow: 0px 1px 2px rgba(60, 64, 67, 0.3), 0px 1px 3px 1px rgba(60, 64, 67, 0.15);\n",
              "      fill: #174EA6;\n",
              "    }\n",
              "\n",
              "    .colab-df-buttons div {\n",
              "      margin-bottom: 4px;\n",
              "    }\n",
              "\n",
              "    [theme=dark] .colab-df-convert {\n",
              "      background-color: #3B4455;\n",
              "      fill: #D2E3FC;\n",
              "    }\n",
              "\n",
              "    [theme=dark] .colab-df-convert:hover {\n",
              "      background-color: #434B5C;\n",
              "      box-shadow: 0px 1px 3px 1px rgba(0, 0, 0, 0.15);\n",
              "      filter: drop-shadow(0px 1px 2px rgba(0, 0, 0, 0.3));\n",
              "      fill: #FFFFFF;\n",
              "    }\n",
              "  </style>\n",
              "\n",
              "    <script>\n",
              "      const buttonEl =\n",
              "        document.querySelector('#df-54686e63-70fe-4d34-9dce-1ec4077d092d button.colab-df-convert');\n",
              "      buttonEl.style.display =\n",
              "        google.colab.kernel.accessAllowed ? 'block' : 'none';\n",
              "\n",
              "      async function convertToInteractive(key) {\n",
              "        const element = document.querySelector('#df-54686e63-70fe-4d34-9dce-1ec4077d092d');\n",
              "        const dataTable =\n",
              "          await google.colab.kernel.invokeFunction('convertToInteractive',\n",
              "                                                    [key], {});\n",
              "        if (!dataTable) return;\n",
              "\n",
              "        const docLinkHtml = 'Like what you see? Visit the ' +\n",
              "          '<a target=\"_blank\" href=https://colab.research.google.com/notebooks/data_table.ipynb>data table notebook</a>'\n",
              "          + ' to learn more about interactive tables.';\n",
              "        element.innerHTML = '';\n",
              "        dataTable['output_type'] = 'display_data';\n",
              "        await google.colab.output.renderOutput(dataTable, element);\n",
              "        const docLink = document.createElement('div');\n",
              "        docLink.innerHTML = docLinkHtml;\n",
              "        element.appendChild(docLink);\n",
              "      }\n",
              "    </script>\n",
              "  </div>\n",
              "\n",
              "\n",
              "    <div id=\"df-7b1b9757-5649-4dc7-8fce-4b2a0225ddc5\">\n",
              "      <button class=\"colab-df-quickchart\" onclick=\"quickchart('df-7b1b9757-5649-4dc7-8fce-4b2a0225ddc5')\"\n",
              "                title=\"Suggest charts\"\n",
              "                style=\"display:none;\">\n",
              "\n",
              "<svg xmlns=\"http://www.w3.org/2000/svg\" height=\"24px\"viewBox=\"0 0 24 24\"\n",
              "     width=\"24px\">\n",
              "    <g>\n",
              "        <path d=\"M19 3H5c-1.1 0-2 .9-2 2v14c0 1.1.9 2 2 2h14c1.1 0 2-.9 2-2V5c0-1.1-.9-2-2-2zM9 17H7v-7h2v7zm4 0h-2V7h2v10zm4 0h-2v-4h2v4z\"/>\n",
              "    </g>\n",
              "</svg>\n",
              "      </button>\n",
              "\n",
              "<style>\n",
              "  .colab-df-quickchart {\n",
              "      --bg-color: #E8F0FE;\n",
              "      --fill-color: #1967D2;\n",
              "      --hover-bg-color: #E2EBFA;\n",
              "      --hover-fill-color: #174EA6;\n",
              "      --disabled-fill-color: #AAA;\n",
              "      --disabled-bg-color: #DDD;\n",
              "  }\n",
              "\n",
              "  [theme=dark] .colab-df-quickchart {\n",
              "      --bg-color: #3B4455;\n",
              "      --fill-color: #D2E3FC;\n",
              "      --hover-bg-color: #434B5C;\n",
              "      --hover-fill-color: #FFFFFF;\n",
              "      --disabled-bg-color: #3B4455;\n",
              "      --disabled-fill-color: #666;\n",
              "  }\n",
              "\n",
              "  .colab-df-quickchart {\n",
              "    background-color: var(--bg-color);\n",
              "    border: none;\n",
              "    border-radius: 50%;\n",
              "    cursor: pointer;\n",
              "    display: none;\n",
              "    fill: var(--fill-color);\n",
              "    height: 32px;\n",
              "    padding: 0;\n",
              "    width: 32px;\n",
              "  }\n",
              "\n",
              "  .colab-df-quickchart:hover {\n",
              "    background-color: var(--hover-bg-color);\n",
              "    box-shadow: 0 1px 2px rgba(60, 64, 67, 0.3), 0 1px 3px 1px rgba(60, 64, 67, 0.15);\n",
              "    fill: var(--button-hover-fill-color);\n",
              "  }\n",
              "\n",
              "  .colab-df-quickchart-complete:disabled,\n",
              "  .colab-df-quickchart-complete:disabled:hover {\n",
              "    background-color: var(--disabled-bg-color);\n",
              "    fill: var(--disabled-fill-color);\n",
              "    box-shadow: none;\n",
              "  }\n",
              "\n",
              "  .colab-df-spinner {\n",
              "    border: 2px solid var(--fill-color);\n",
              "    border-color: transparent;\n",
              "    border-bottom-color: var(--fill-color);\n",
              "    animation:\n",
              "      spin 1s steps(1) infinite;\n",
              "  }\n",
              "\n",
              "  @keyframes spin {\n",
              "    0% {\n",
              "      border-color: transparent;\n",
              "      border-bottom-color: var(--fill-color);\n",
              "      border-left-color: var(--fill-color);\n",
              "    }\n",
              "    20% {\n",
              "      border-color: transparent;\n",
              "      border-left-color: var(--fill-color);\n",
              "      border-top-color: var(--fill-color);\n",
              "    }\n",
              "    30% {\n",
              "      border-color: transparent;\n",
              "      border-left-color: var(--fill-color);\n",
              "      border-top-color: var(--fill-color);\n",
              "      border-right-color: var(--fill-color);\n",
              "    }\n",
              "    40% {\n",
              "      border-color: transparent;\n",
              "      border-right-color: var(--fill-color);\n",
              "      border-top-color: var(--fill-color);\n",
              "    }\n",
              "    60% {\n",
              "      border-color: transparent;\n",
              "      border-right-color: var(--fill-color);\n",
              "    }\n",
              "    80% {\n",
              "      border-color: transparent;\n",
              "      border-right-color: var(--fill-color);\n",
              "      border-bottom-color: var(--fill-color);\n",
              "    }\n",
              "    90% {\n",
              "      border-color: transparent;\n",
              "      border-bottom-color: var(--fill-color);\n",
              "    }\n",
              "  }\n",
              "</style>\n",
              "\n",
              "      <script>\n",
              "        async function quickchart(key) {\n",
              "          const quickchartButtonEl =\n",
              "            document.querySelector('#' + key + ' button');\n",
              "          quickchartButtonEl.disabled = true;  // To prevent multiple clicks.\n",
              "          quickchartButtonEl.classList.add('colab-df-spinner');\n",
              "          try {\n",
              "            const charts = await google.colab.kernel.invokeFunction(\n",
              "                'suggestCharts', [key], {});\n",
              "          } catch (error) {\n",
              "            console.error('Error during call to suggestCharts:', error);\n",
              "          }\n",
              "          quickchartButtonEl.classList.remove('colab-df-spinner');\n",
              "          quickchartButtonEl.classList.add('colab-df-quickchart-complete');\n",
              "        }\n",
              "        (() => {\n",
              "          let quickchartButtonEl =\n",
              "            document.querySelector('#df-7b1b9757-5649-4dc7-8fce-4b2a0225ddc5 button');\n",
              "          quickchartButtonEl.style.display =\n",
              "            google.colab.kernel.accessAllowed ? 'block' : 'none';\n",
              "        })();\n",
              "      </script>\n",
              "    </div>\n",
              "\n",
              "    </div>\n",
              "  </div>\n"
            ],
            "application/vnd.google.colaboratory.intrinsic+json": {
              "type": "dataframe",
              "variable_name": "data",
              "summary": "{\n  \"name\": \"data\",\n  \"rows\": 407,\n  \"fields\": [\n    {\n      \"column\": \"Patient_Problem\",\n      \"properties\": {\n        \"dtype\": \"string\",\n        \"num_unique_values\": 407,\n        \"samples\": [\n          \"Excessive sweating even in cool temperatures.\",\n          \"I've noticed blood in my stool and unexplained abdominal pain.\",\n          \"Experiencing memory lapses and difficulty concentrating on daily tasks.\"\n        ],\n        \"semantic_type\": \"\",\n        \"description\": \"\"\n      }\n    },\n    {\n      \"column\": \"Disease\",\n      \"properties\": {\n        \"dtype\": \"category\",\n        \"num_unique_values\": 178,\n        \"samples\": [\n          \"Early Onset Dementia\",\n          \"Streptococcal Pharyngitis\",\n          \"Uveitis\"\n        ],\n        \"semantic_type\": \"\",\n        \"description\": \"\"\n      }\n    },\n    {\n      \"column\": \"Prescription\",\n      \"properties\": {\n        \"dtype\": \"string\",\n        \"num_unique_values\": 388,\n        \"samples\": [\n          \"Regular eye exams; consider anti-VEGF therapy.\",\n          \"Balanced diet; regular exercise; CBT for mental health.\",\n          \"Adopt good sleep hygiene; consider melatonin supplements.\"\n        ],\n        \"semantic_type\": \"\",\n        \"description\": \"\"\n      }\n    }\n  ]\n}"
            }
          },
          "metadata": {},
          "execution_count": 3
        }
      ]
    },
    {
      "cell_type": "markdown",
      "source": [
        "### 2. Data Preprocessing and Prepration"
      ],
      "metadata": {
        "id": "6DjzoXnJs53Q"
      }
    },
    {
      "cell_type": "code",
      "source": [
        "# Tokenizing and sequencing the data\n",
        "tokenizer = Tokenizer(num_words=5000, oov_token=\"<OOV>\")\n",
        "tokenizer.fit_on_texts(data['Patient_Problem'])\n",
        "\n",
        "sequences = tokenizer.texts_to_sequences(data['Patient_Problem'])"
      ],
      "metadata": {
        "id": "EThu3zKHqBOF"
      },
      "execution_count": 6,
      "outputs": []
    },
    {
      "cell_type": "code",
      "source": [
        "# Padding sequences\n",
        "max_length = max(len(x) for x in sequences)\n",
        "padded_sequences = pad_sequences(sequences, maxlen=max_length, padding='post')"
      ],
      "metadata": {
        "id": "XLPOLgX4sUom"
      },
      "execution_count": 8,
      "outputs": []
    },
    {
      "cell_type": "code",
      "source": [
        "# Encoding the labels and Converting them to categorical\n",
        "label_encoder_disease = LabelEncoder()\n",
        "label_encoder_prescription = LabelEncoder()\n",
        "\n",
        "disease_labels = label_encoder_disease.fit_transform(data['Disease'])\n",
        "prescription_labels = label_encoder_prescription.fit_transform(data['Prescription'])\n",
        "\n",
        "# converting labels into categorical\n",
        "disease_labels_categorical = to_categorical(disease_labels)\n",
        "prescription_labels_categorical = to_categorical(prescription_labels)"
      ],
      "metadata": {
        "id": "hhViCIP0tdXt"
      },
      "execution_count": 11,
      "outputs": []
    },
    {
      "cell_type": "code",
      "source": [
        "# Combining label into Multi label taget variable\n",
        "Y=np.hstack((disease_labels_categorical,prescription_labels_categorical))"
      ],
      "metadata": {
        "id": "XfSach_6u7b6"
      },
      "execution_count": 12,
      "outputs": []
    },
    {
      "cell_type": "markdown",
      "source": [
        "### 3.Model Building"
      ],
      "metadata": {
        "id": "niaQwyGXwPm_"
      }
    },
    {
      "cell_type": "code",
      "source": [
        "input_layer = Input(shape=(max_length,))\n",
        "\n",
        "embedding = Embedding(input_dim=5000, output_dim=64)(input_layer)\n",
        "lstm_layer = LSTM(64)(embedding)\n",
        "\n",
        "disease_output = Dense(len(label_encoder_disease.classes_), activation='softmax',\n",
        "name='disease_output')(lstm_layer)\n",
        "\n",
        "prescription_output = Dense(len(label_encoder_prescription.classes_),\n",
        "activation='softmax', name='prescription_output')(lstm_layer)"
      ],
      "metadata": {
        "id": "N2QYkl4Yu7ZN"
      },
      "execution_count": 13,
      "outputs": []
    },
    {
      "cell_type": "code",
      "source": [
        "#Compiling the model\n",
        "model = Model(inputs=input_layer, outputs=[disease_output, prescription_output])\n",
        "\n",
        "model.compile(\n",
        "    loss={'disease_output': 'categorical_crossentropy',\n",
        "    'prescription_output': 'categorical_crossentropy'},\n",
        "    optimizer='adam',\n",
        "    metrics={'disease_output': ['accuracy'], 'prescription_output': ['accuracy']}\n",
        ")\n",
        "\n",
        "model.summary()"
      ],
      "metadata": {
        "id": "vXhDP4Guu7Wv",
        "outputId": "e44d430b-2595-44d2-b665-5a3e1777966c",
        "colab": {
          "base_uri": "https://localhost:8080/",
          "height": 361
        }
      },
      "execution_count": 14,
      "outputs": [
        {
          "output_type": "display_data",
          "data": {
            "text/plain": [
              "\u001b[1mModel: \"functional\"\u001b[0m\n"
            ],
            "text/html": [
              "<pre style=\"white-space:pre;overflow-x:auto;line-height:normal;font-family:Menlo,'DejaVu Sans Mono',consolas,'Courier New',monospace\"><span style=\"font-weight: bold\">Model: \"functional\"</span>\n",
              "</pre>\n"
            ]
          },
          "metadata": {}
        },
        {
          "output_type": "display_data",
          "data": {
            "text/plain": [
              "┏━━━━━━━━━━━━━━━━━━━━━┳━━━━━━━━━━━━━━━━━━━┳━━━━━━━━━━━━┳━━━━━━━━━━━━━━━━━━━┓\n",
              "┃\u001b[1m \u001b[0m\u001b[1mLayer (type)       \u001b[0m\u001b[1m \u001b[0m┃\u001b[1m \u001b[0m\u001b[1mOutput Shape     \u001b[0m\u001b[1m \u001b[0m┃\u001b[1m \u001b[0m\u001b[1m   Param #\u001b[0m\u001b[1m \u001b[0m┃\u001b[1m \u001b[0m\u001b[1mConnected to     \u001b[0m\u001b[1m \u001b[0m┃\n",
              "┡━━━━━━━━━━━━━━━━━━━━━╇━━━━━━━━━━━━━━━━━━━╇━━━━━━━━━━━━╇━━━━━━━━━━━━━━━━━━━┩\n",
              "│ input_layer         │ (\u001b[38;5;45mNone\u001b[0m, \u001b[38;5;34m17\u001b[0m)        │          \u001b[38;5;34m0\u001b[0m │ -                 │\n",
              "│ (\u001b[38;5;33mInputLayer\u001b[0m)        │                   │            │                   │\n",
              "├─────────────────────┼───────────────────┼────────────┼───────────────────┤\n",
              "│ embedding           │ (\u001b[38;5;45mNone\u001b[0m, \u001b[38;5;34m17\u001b[0m, \u001b[38;5;34m64\u001b[0m)    │    \u001b[38;5;34m320,000\u001b[0m │ input_layer[\u001b[38;5;34m0\u001b[0m][\u001b[38;5;34m0\u001b[0m] │\n",
              "│ (\u001b[38;5;33mEmbedding\u001b[0m)         │                   │            │                   │\n",
              "├─────────────────────┼───────────────────┼────────────┼───────────────────┤\n",
              "│ lstm (\u001b[38;5;33mLSTM\u001b[0m)         │ (\u001b[38;5;45mNone\u001b[0m, \u001b[38;5;34m64\u001b[0m)        │     \u001b[38;5;34m33,024\u001b[0m │ embedding[\u001b[38;5;34m0\u001b[0m][\u001b[38;5;34m0\u001b[0m]   │\n",
              "├─────────────────────┼───────────────────┼────────────┼───────────────────┤\n",
              "│ disease_output      │ (\u001b[38;5;45mNone\u001b[0m, \u001b[38;5;34m178\u001b[0m)       │     \u001b[38;5;34m11,570\u001b[0m │ lstm[\u001b[38;5;34m0\u001b[0m][\u001b[38;5;34m0\u001b[0m]        │\n",
              "│ (\u001b[38;5;33mDense\u001b[0m)             │                   │            │                   │\n",
              "├─────────────────────┼───────────────────┼────────────┼───────────────────┤\n",
              "│ prescription_output │ (\u001b[38;5;45mNone\u001b[0m, \u001b[38;5;34m388\u001b[0m)       │     \u001b[38;5;34m25,220\u001b[0m │ lstm[\u001b[38;5;34m0\u001b[0m][\u001b[38;5;34m0\u001b[0m]        │\n",
              "│ (\u001b[38;5;33mDense\u001b[0m)             │                   │            │                   │\n",
              "└─────────────────────┴───────────────────┴────────────┴───────────────────┘\n"
            ],
            "text/html": [
              "<pre style=\"white-space:pre;overflow-x:auto;line-height:normal;font-family:Menlo,'DejaVu Sans Mono',consolas,'Courier New',monospace\">┏━━━━━━━━━━━━━━━━━━━━━┳━━━━━━━━━━━━━━━━━━━┳━━━━━━━━━━━━┳━━━━━━━━━━━━━━━━━━━┓\n",
              "┃<span style=\"font-weight: bold\"> Layer (type)        </span>┃<span style=\"font-weight: bold\"> Output Shape      </span>┃<span style=\"font-weight: bold\">    Param # </span>┃<span style=\"font-weight: bold\"> Connected to      </span>┃\n",
              "┡━━━━━━━━━━━━━━━━━━━━━╇━━━━━━━━━━━━━━━━━━━╇━━━━━━━━━━━━╇━━━━━━━━━━━━━━━━━━━┩\n",
              "│ input_layer         │ (<span style=\"color: #00d7ff; text-decoration-color: #00d7ff\">None</span>, <span style=\"color: #00af00; text-decoration-color: #00af00\">17</span>)        │          <span style=\"color: #00af00; text-decoration-color: #00af00\">0</span> │ -                 │\n",
              "│ (<span style=\"color: #0087ff; text-decoration-color: #0087ff\">InputLayer</span>)        │                   │            │                   │\n",
              "├─────────────────────┼───────────────────┼────────────┼───────────────────┤\n",
              "│ embedding           │ (<span style=\"color: #00d7ff; text-decoration-color: #00d7ff\">None</span>, <span style=\"color: #00af00; text-decoration-color: #00af00\">17</span>, <span style=\"color: #00af00; text-decoration-color: #00af00\">64</span>)    │    <span style=\"color: #00af00; text-decoration-color: #00af00\">320,000</span> │ input_layer[<span style=\"color: #00af00; text-decoration-color: #00af00\">0</span>][<span style=\"color: #00af00; text-decoration-color: #00af00\">0</span>] │\n",
              "│ (<span style=\"color: #0087ff; text-decoration-color: #0087ff\">Embedding</span>)         │                   │            │                   │\n",
              "├─────────────────────┼───────────────────┼────────────┼───────────────────┤\n",
              "│ lstm (<span style=\"color: #0087ff; text-decoration-color: #0087ff\">LSTM</span>)         │ (<span style=\"color: #00d7ff; text-decoration-color: #00d7ff\">None</span>, <span style=\"color: #00af00; text-decoration-color: #00af00\">64</span>)        │     <span style=\"color: #00af00; text-decoration-color: #00af00\">33,024</span> │ embedding[<span style=\"color: #00af00; text-decoration-color: #00af00\">0</span>][<span style=\"color: #00af00; text-decoration-color: #00af00\">0</span>]   │\n",
              "├─────────────────────┼───────────────────┼────────────┼───────────────────┤\n",
              "│ disease_output      │ (<span style=\"color: #00d7ff; text-decoration-color: #00d7ff\">None</span>, <span style=\"color: #00af00; text-decoration-color: #00af00\">178</span>)       │     <span style=\"color: #00af00; text-decoration-color: #00af00\">11,570</span> │ lstm[<span style=\"color: #00af00; text-decoration-color: #00af00\">0</span>][<span style=\"color: #00af00; text-decoration-color: #00af00\">0</span>]        │\n",
              "│ (<span style=\"color: #0087ff; text-decoration-color: #0087ff\">Dense</span>)             │                   │            │                   │\n",
              "├─────────────────────┼───────────────────┼────────────┼───────────────────┤\n",
              "│ prescription_output │ (<span style=\"color: #00d7ff; text-decoration-color: #00d7ff\">None</span>, <span style=\"color: #00af00; text-decoration-color: #00af00\">388</span>)       │     <span style=\"color: #00af00; text-decoration-color: #00af00\">25,220</span> │ lstm[<span style=\"color: #00af00; text-decoration-color: #00af00\">0</span>][<span style=\"color: #00af00; text-decoration-color: #00af00\">0</span>]        │\n",
              "│ (<span style=\"color: #0087ff; text-decoration-color: #0087ff\">Dense</span>)             │                   │            │                   │\n",
              "└─────────────────────┴───────────────────┴────────────┴───────────────────┘\n",
              "</pre>\n"
            ]
          },
          "metadata": {}
        },
        {
          "output_type": "display_data",
          "data": {
            "text/plain": [
              "\u001b[1m Total params: \u001b[0m\u001b[38;5;34m389,814\u001b[0m (1.49 MB)\n"
            ],
            "text/html": [
              "<pre style=\"white-space:pre;overflow-x:auto;line-height:normal;font-family:Menlo,'DejaVu Sans Mono',consolas,'Courier New',monospace\"><span style=\"font-weight: bold\"> Total params: </span><span style=\"color: #00af00; text-decoration-color: #00af00\">389,814</span> (1.49 MB)\n",
              "</pre>\n"
            ]
          },
          "metadata": {}
        },
        {
          "output_type": "display_data",
          "data": {
            "text/plain": [
              "\u001b[1m Trainable params: \u001b[0m\u001b[38;5;34m389,814\u001b[0m (1.49 MB)\n"
            ],
            "text/html": [
              "<pre style=\"white-space:pre;overflow-x:auto;line-height:normal;font-family:Menlo,'DejaVu Sans Mono',consolas,'Courier New',monospace\"><span style=\"font-weight: bold\"> Trainable params: </span><span style=\"color: #00af00; text-decoration-color: #00af00\">389,814</span> (1.49 MB)\n",
              "</pre>\n"
            ]
          },
          "metadata": {}
        },
        {
          "output_type": "display_data",
          "data": {
            "text/plain": [
              "\u001b[1m Non-trainable params: \u001b[0m\u001b[38;5;34m0\u001b[0m (0.00 B)\n"
            ],
            "text/html": [
              "<pre style=\"white-space:pre;overflow-x:auto;line-height:normal;font-family:Menlo,'DejaVu Sans Mono',consolas,'Courier New',monospace\"><span style=\"font-weight: bold\"> Non-trainable params: </span><span style=\"color: #00af00; text-decoration-color: #00af00\">0</span> (0.00 B)\n",
              "</pre>\n"
            ]
          },
          "metadata": {}
        }
      ]
    },
    {
      "cell_type": "code",
      "source": [
        "#Training the model\n",
        "model.fit(padded_sequences, {'disease_output': disease_labels_categorical, 'prescription_output':\n",
        "      prescription_labels_categorical}, epochs=100, batch_size=32)"
      ],
      "metadata": {
        "id": "0OxRqP0zu7UI",
        "outputId": "79336485-6556-4a5f-9662-58f38cc0999c",
        "colab": {
          "base_uri": "https://localhost:8080/"
        }
      },
      "execution_count": 16,
      "outputs": [
        {
          "output_type": "stream",
          "name": "stdout",
          "text": [
            "Epoch 1/100\n",
            "\u001b[1m13/13\u001b[0m \u001b[32m━━━━━━━━━━━━━━━━━━━━\u001b[0m\u001b[37m\u001b[0m \u001b[1m6s\u001b[0m 10ms/step - disease_output_accuracy: 0.0193 - disease_output_loss: 5.1776 - loss: 11.1412 - prescription_output_accuracy: 0.0000e+00 - prescription_output_loss: 5.9637\n",
            "Epoch 2/100\n",
            "\u001b[1m13/13\u001b[0m \u001b[32m━━━━━━━━━━━━━━━━━━━━\u001b[0m\u001b[37m\u001b[0m \u001b[1m2s\u001b[0m 15ms/step - disease_output_accuracy: 0.0390 - disease_output_loss: 5.1503 - loss: 11.1132 - prescription_output_accuracy: 0.0160 - prescription_output_loss: 5.9628\n",
            "Epoch 3/100\n",
            "\u001b[1m13/13\u001b[0m \u001b[32m━━━━━━━━━━━━━━━━━━━━\u001b[0m\u001b[37m\u001b[0m \u001b[1m0s\u001b[0m 12ms/step - disease_output_accuracy: 0.0363 - disease_output_loss: 5.0659 - loss: 11.0263 - prescription_output_accuracy: 0.0160 - prescription_output_loss: 5.9608\n",
            "Epoch 4/100\n",
            "\u001b[1m13/13\u001b[0m \u001b[32m━━━━━━━━━━━━━━━━━━━━\u001b[0m\u001b[37m\u001b[0m \u001b[1m0s\u001b[0m 9ms/step - disease_output_accuracy: 0.0308 - disease_output_loss: 4.9452 - loss: 10.9090 - prescription_output_accuracy: 0.0161 - prescription_output_loss: 5.9641\n",
            "Epoch 5/100\n",
            "\u001b[1m13/13\u001b[0m \u001b[32m━━━━━━━━━━━━━━━━━━━━\u001b[0m\u001b[37m\u001b[0m \u001b[1m0s\u001b[0m 10ms/step - disease_output_accuracy: 0.0379 - disease_output_loss: 4.9102 - loss: 10.8507 - prescription_output_accuracy: 0.0166 - prescription_output_loss: 5.9400\n",
            "Epoch 6/100\n",
            "\u001b[1m13/13\u001b[0m \u001b[32m━━━━━━━━━━━━━━━━━━━━\u001b[0m\u001b[37m\u001b[0m \u001b[1m0s\u001b[0m 9ms/step - disease_output_accuracy: 0.0452 - disease_output_loss: 4.7783 - loss: 10.6615 - prescription_output_accuracy: 0.0274 - prescription_output_loss: 5.8839\n",
            "Epoch 7/100\n",
            "\u001b[1m13/13\u001b[0m \u001b[32m━━━━━━━━━━━━━━━━━━━━\u001b[0m\u001b[37m\u001b[0m \u001b[1m0s\u001b[0m 9ms/step - disease_output_accuracy: 0.0259 - disease_output_loss: 4.6941 - loss: 10.5563 - prescription_output_accuracy: 0.0115 - prescription_output_loss: 5.8618\n",
            "Epoch 8/100\n",
            "\u001b[1m13/13\u001b[0m \u001b[32m━━━━━━━━━━━━━━━━━━━━\u001b[0m\u001b[37m\u001b[0m \u001b[1m0s\u001b[0m 10ms/step - disease_output_accuracy: 0.0367 - disease_output_loss: 4.5853 - loss: 10.3798 - prescription_output_accuracy: 0.0159 - prescription_output_loss: 5.7954\n",
            "Epoch 9/100\n",
            "\u001b[1m13/13\u001b[0m \u001b[32m━━━━━━━━━━━━━━━━━━━━\u001b[0m\u001b[37m\u001b[0m \u001b[1m0s\u001b[0m 9ms/step - disease_output_accuracy: 0.0274 - disease_output_loss: 4.5195 - loss: 10.2251 - prescription_output_accuracy: 0.0208 - prescription_output_loss: 5.7051\n",
            "Epoch 10/100\n",
            "\u001b[1m13/13\u001b[0m \u001b[32m━━━━━━━━━━━━━━━━━━━━\u001b[0m\u001b[37m\u001b[0m \u001b[1m0s\u001b[0m 9ms/step - disease_output_accuracy: 0.0488 - disease_output_loss: 4.4612 - loss: 10.1125 - prescription_output_accuracy: 0.0196 - prescription_output_loss: 5.6515\n",
            "Epoch 11/100\n",
            "\u001b[1m13/13\u001b[0m \u001b[32m━━━━━━━━━━━━━━━━━━━━\u001b[0m\u001b[37m\u001b[0m \u001b[1m0s\u001b[0m 9ms/step - disease_output_accuracy: 0.0437 - disease_output_loss: 4.3860 - loss: 9.9311 - prescription_output_accuracy: 0.0263 - prescription_output_loss: 5.5460\n",
            "Epoch 12/100\n",
            "\u001b[1m13/13\u001b[0m \u001b[32m━━━━━━━━━━━━━━━━━━━━\u001b[0m\u001b[37m\u001b[0m \u001b[1m0s\u001b[0m 9ms/step - disease_output_accuracy: 0.0514 - disease_output_loss: 4.3487 - loss: 9.8711 - prescription_output_accuracy: 0.0126 - prescription_output_loss: 5.5224\n",
            "Epoch 13/100\n",
            "\u001b[1m13/13\u001b[0m \u001b[32m━━━━━━━━━━━━━━━━━━━━\u001b[0m\u001b[37m\u001b[0m \u001b[1m0s\u001b[0m 9ms/step - disease_output_accuracy: 0.0559 - disease_output_loss: 4.2289 - loss: 9.6937 - prescription_output_accuracy: 0.0122 - prescription_output_loss: 5.4652\n",
            "Epoch 14/100\n",
            "\u001b[1m13/13\u001b[0m \u001b[32m━━━━━━━━━━━━━━━━━━━━\u001b[0m\u001b[37m\u001b[0m \u001b[1m0s\u001b[0m 10ms/step - disease_output_accuracy: 0.0648 - disease_output_loss: 4.1364 - loss: 9.4864 - prescription_output_accuracy: 0.0230 - prescription_output_loss: 5.3503\n",
            "Epoch 15/100\n",
            "\u001b[1m13/13\u001b[0m \u001b[32m━━━━━━━━━━━━━━━━━━━━\u001b[0m\u001b[37m\u001b[0m \u001b[1m0s\u001b[0m 10ms/step - disease_output_accuracy: 0.0821 - disease_output_loss: 4.0547 - loss: 9.3226 - prescription_output_accuracy: 0.0264 - prescription_output_loss: 5.2670\n",
            "Epoch 16/100\n",
            "\u001b[1m13/13\u001b[0m \u001b[32m━━━━━━━━━━━━━━━━━━━━\u001b[0m\u001b[37m\u001b[0m \u001b[1m0s\u001b[0m 9ms/step - disease_output_accuracy: 0.1003 - disease_output_loss: 3.9281 - loss: 9.1195 - prescription_output_accuracy: 0.0194 - prescription_output_loss: 5.1910\n",
            "Epoch 17/100\n",
            "\u001b[1m13/13\u001b[0m \u001b[32m━━━━━━━━━━━━━━━━━━━━\u001b[0m\u001b[37m\u001b[0m \u001b[1m0s\u001b[0m 9ms/step - disease_output_accuracy: 0.0725 - disease_output_loss: 3.9015 - loss: 9.0045 - prescription_output_accuracy: 0.0303 - prescription_output_loss: 5.1037\n",
            "Epoch 18/100\n",
            "\u001b[1m13/13\u001b[0m \u001b[32m━━━━━━━━━━━━━━━━━━━━\u001b[0m\u001b[37m\u001b[0m \u001b[1m0s\u001b[0m 9ms/step - disease_output_accuracy: 0.0726 - disease_output_loss: 3.9053 - loss: 8.9482 - prescription_output_accuracy: 0.0413 - prescription_output_loss: 5.0434\n",
            "Epoch 19/100\n",
            "\u001b[1m13/13\u001b[0m \u001b[32m━━━━━━━━━━━━━━━━━━━━\u001b[0m\u001b[37m\u001b[0m \u001b[1m0s\u001b[0m 9ms/step - disease_output_accuracy: 0.0720 - disease_output_loss: 3.8831 - loss: 8.9013 - prescription_output_accuracy: 0.0248 - prescription_output_loss: 5.0174\n",
            "Epoch 20/100\n",
            "\u001b[1m13/13\u001b[0m \u001b[32m━━━━━━━━━━━━━━━━━━━━\u001b[0m\u001b[37m\u001b[0m \u001b[1m0s\u001b[0m 10ms/step - disease_output_accuracy: 0.1086 - disease_output_loss: 3.7395 - loss: 8.6549 - prescription_output_accuracy: 0.0358 - prescription_output_loss: 4.9168\n",
            "Epoch 21/100\n",
            "\u001b[1m13/13\u001b[0m \u001b[32m━━━━━━━━━━━━━━━━━━━━\u001b[0m\u001b[37m\u001b[0m \u001b[1m0s\u001b[0m 9ms/step - disease_output_accuracy: 0.1240 - disease_output_loss: 3.6977 - loss: 8.5972 - prescription_output_accuracy: 0.0362 - prescription_output_loss: 4.9002\n",
            "Epoch 22/100\n",
            "\u001b[1m13/13\u001b[0m \u001b[32m━━━━━━━━━━━━━━━━━━━━\u001b[0m\u001b[37m\u001b[0m \u001b[1m0s\u001b[0m 9ms/step - disease_output_accuracy: 0.1183 - disease_output_loss: 3.7257 - loss: 8.6285 - prescription_output_accuracy: 0.0217 - prescription_output_loss: 4.9025\n",
            "Epoch 23/100\n",
            "\u001b[1m13/13\u001b[0m \u001b[32m━━━━━━━━━━━━━━━━━━━━\u001b[0m\u001b[37m\u001b[0m \u001b[1m0s\u001b[0m 9ms/step - disease_output_accuracy: 0.1161 - disease_output_loss: 3.7366 - loss: 8.5872 - prescription_output_accuracy: 0.0224 - prescription_output_loss: 4.8511\n",
            "Epoch 24/100\n",
            "\u001b[1m13/13\u001b[0m \u001b[32m━━━━━━━━━━━━━━━━━━━━\u001b[0m\u001b[37m\u001b[0m \u001b[1m0s\u001b[0m 9ms/step - disease_output_accuracy: 0.1245 - disease_output_loss: 3.6279 - loss: 8.3799 - prescription_output_accuracy: 0.0413 - prescription_output_loss: 4.7533\n",
            "Epoch 25/100\n",
            "\u001b[1m13/13\u001b[0m \u001b[32m━━━━━━━━━━━━━━━━━━━━\u001b[0m\u001b[37m\u001b[0m \u001b[1m0s\u001b[0m 11ms/step - disease_output_accuracy: 0.1448 - disease_output_loss: 3.5685 - loss: 8.2598 - prescription_output_accuracy: 0.0401 - prescription_output_loss: 4.6909\n",
            "Epoch 26/100\n",
            "\u001b[1m13/13\u001b[0m \u001b[32m━━━━━━━━━━━━━━━━━━━━\u001b[0m\u001b[37m\u001b[0m \u001b[1m0s\u001b[0m 9ms/step - disease_output_accuracy: 0.1645 - disease_output_loss: 3.5018 - loss: 8.1883 - prescription_output_accuracy: 0.0340 - prescription_output_loss: 4.6881\n",
            "Epoch 27/100\n",
            "\u001b[1m13/13\u001b[0m \u001b[32m━━━━━━━━━━━━━━━━━━━━\u001b[0m\u001b[37m\u001b[0m \u001b[1m0s\u001b[0m 9ms/step - disease_output_accuracy: 0.1573 - disease_output_loss: 3.4977 - loss: 8.1001 - prescription_output_accuracy: 0.0548 - prescription_output_loss: 4.6029\n",
            "Epoch 28/100\n",
            "\u001b[1m13/13\u001b[0m \u001b[32m━━━━━━━━━━━━━━━━━━━━\u001b[0m\u001b[37m\u001b[0m \u001b[1m0s\u001b[0m 9ms/step - disease_output_accuracy: 0.1847 - disease_output_loss: 3.3404 - loss: 7.9285 - prescription_output_accuracy: 0.0546 - prescription_output_loss: 4.5883\n",
            "Epoch 29/100\n",
            "\u001b[1m13/13\u001b[0m \u001b[32m━━━━━━━━━━━━━━━━━━━━\u001b[0m\u001b[37m\u001b[0m \u001b[1m0s\u001b[0m 9ms/step - disease_output_accuracy: 0.2086 - disease_output_loss: 3.3127 - loss: 7.8104 - prescription_output_accuracy: 0.0961 - prescription_output_loss: 4.4981\n",
            "Epoch 30/100\n",
            "\u001b[1m13/13\u001b[0m \u001b[32m━━━━━━━━━━━━━━━━━━━━\u001b[0m\u001b[37m\u001b[0m \u001b[1m0s\u001b[0m 9ms/step - disease_output_accuracy: 0.1841 - disease_output_loss: 3.2539 - loss: 7.7179 - prescription_output_accuracy: 0.0737 - prescription_output_loss: 4.4651\n",
            "Epoch 31/100\n",
            "\u001b[1m13/13\u001b[0m \u001b[32m━━━━━━━━━━━━━━━━━━━━\u001b[0m\u001b[37m\u001b[0m \u001b[1m0s\u001b[0m 9ms/step - disease_output_accuracy: 0.1856 - disease_output_loss: 3.1791 - loss: 7.5815 - prescription_output_accuracy: 0.0896 - prescription_output_loss: 4.4026\n",
            "Epoch 32/100\n",
            "\u001b[1m13/13\u001b[0m \u001b[32m━━━━━━━━━━━━━━━━━━━━\u001b[0m\u001b[37m\u001b[0m \u001b[1m0s\u001b[0m 10ms/step - disease_output_accuracy: 0.2165 - disease_output_loss: 3.0977 - loss: 7.4166 - prescription_output_accuracy: 0.1119 - prescription_output_loss: 4.3195\n",
            "Epoch 33/100\n",
            "\u001b[1m13/13\u001b[0m \u001b[32m━━━━━━━━━━━━━━━━━━━━\u001b[0m\u001b[37m\u001b[0m \u001b[1m0s\u001b[0m 9ms/step - disease_output_accuracy: 0.2352 - disease_output_loss: 3.1086 - loss: 7.4227 - prescription_output_accuracy: 0.0891 - prescription_output_loss: 4.3152\n",
            "Epoch 34/100\n",
            "\u001b[1m13/13\u001b[0m \u001b[32m━━━━━━━━━━━━━━━━━━━━\u001b[0m\u001b[37m\u001b[0m \u001b[1m0s\u001b[0m 9ms/step - disease_output_accuracy: 0.2708 - disease_output_loss: 3.0363 - loss: 7.3346 - prescription_output_accuracy: 0.0764 - prescription_output_loss: 4.2988\n",
            "Epoch 35/100\n",
            "\u001b[1m13/13\u001b[0m \u001b[32m━━━━━━━━━━━━━━━━━━━━\u001b[0m\u001b[37m\u001b[0m \u001b[1m0s\u001b[0m 9ms/step - disease_output_accuracy: 0.2719 - disease_output_loss: 2.9880 - loss: 7.2140 - prescription_output_accuracy: 0.1073 - prescription_output_loss: 4.2260\n",
            "Epoch 36/100\n",
            "\u001b[1m13/13\u001b[0m \u001b[32m━━━━━━━━━━━━━━━━━━━━\u001b[0m\u001b[37m\u001b[0m \u001b[1m0s\u001b[0m 9ms/step - disease_output_accuracy: 0.2337 - disease_output_loss: 3.0675 - loss: 7.2553 - prescription_output_accuracy: 0.0953 - prescription_output_loss: 4.1884\n",
            "Epoch 37/100\n",
            "\u001b[1m13/13\u001b[0m \u001b[32m━━━━━━━━━━━━━━━━━━━━\u001b[0m\u001b[37m\u001b[0m \u001b[1m0s\u001b[0m 9ms/step - disease_output_accuracy: 0.2526 - disease_output_loss: 2.9552 - loss: 7.0977 - prescription_output_accuracy: 0.0963 - prescription_output_loss: 4.1417\n",
            "Epoch 38/100\n",
            "\u001b[1m13/13\u001b[0m \u001b[32m━━━━━━━━━━━━━━━━━━━━\u001b[0m\u001b[37m\u001b[0m \u001b[1m0s\u001b[0m 10ms/step - disease_output_accuracy: 0.2315 - disease_output_loss: 3.0066 - loss: 7.1417 - prescription_output_accuracy: 0.0944 - prescription_output_loss: 4.1351\n",
            "Epoch 39/100\n",
            "\u001b[1m13/13\u001b[0m \u001b[32m━━━━━━━━━━━━━━━━━━━━\u001b[0m\u001b[37m\u001b[0m \u001b[1m0s\u001b[0m 10ms/step - disease_output_accuracy: 0.2775 - disease_output_loss: 2.8781 - loss: 7.0043 - prescription_output_accuracy: 0.1269 - prescription_output_loss: 4.1269\n",
            "Epoch 40/100\n",
            "\u001b[1m13/13\u001b[0m \u001b[32m━━━━━━━━━━━━━━━━━━━━\u001b[0m\u001b[37m\u001b[0m \u001b[1m0s\u001b[0m 9ms/step - disease_output_accuracy: 0.2923 - disease_output_loss: 2.8842 - loss: 6.9747 - prescription_output_accuracy: 0.0937 - prescription_output_loss: 4.0892\n",
            "Epoch 41/100\n",
            "\u001b[1m13/13\u001b[0m \u001b[32m━━━━━━━━━━━━━━━━━━━━\u001b[0m\u001b[37m\u001b[0m \u001b[1m0s\u001b[0m 11ms/step - disease_output_accuracy: 0.2987 - disease_output_loss: 2.7778 - loss: 6.7724 - prescription_output_accuracy: 0.1466 - prescription_output_loss: 3.9945\n",
            "Epoch 42/100\n",
            "\u001b[1m13/13\u001b[0m \u001b[32m━━━━━━━━━━━━━━━━━━━━\u001b[0m\u001b[37m\u001b[0m \u001b[1m0s\u001b[0m 9ms/step - disease_output_accuracy: 0.2980 - disease_output_loss: 2.7970 - loss: 6.7796 - prescription_output_accuracy: 0.1669 - prescription_output_loss: 3.9829\n",
            "Epoch 43/100\n",
            "\u001b[1m13/13\u001b[0m \u001b[32m━━━━━━━━━━━━━━━━━━━━\u001b[0m\u001b[37m\u001b[0m \u001b[1m0s\u001b[0m 9ms/step - disease_output_accuracy: 0.3052 - disease_output_loss: 2.7837 - loss: 6.7412 - prescription_output_accuracy: 0.1196 - prescription_output_loss: 3.9578\n",
            "Epoch 44/100\n",
            "\u001b[1m13/13\u001b[0m \u001b[32m━━━━━━━━━━━━━━━━━━━━\u001b[0m\u001b[37m\u001b[0m \u001b[1m0s\u001b[0m 10ms/step - disease_output_accuracy: 0.3954 - disease_output_loss: 2.6353 - loss: 6.5145 - prescription_output_accuracy: 0.1674 - prescription_output_loss: 3.8812\n",
            "Epoch 45/100\n",
            "\u001b[1m13/13\u001b[0m \u001b[32m━━━━━━━━━━━━━━━━━━━━\u001b[0m\u001b[37m\u001b[0m \u001b[1m0s\u001b[0m 9ms/step - disease_output_accuracy: 0.3266 - disease_output_loss: 2.6462 - loss: 6.4428 - prescription_output_accuracy: 0.1947 - prescription_output_loss: 3.7975\n",
            "Epoch 46/100\n",
            "\u001b[1m13/13\u001b[0m \u001b[32m━━━━━━━━━━━━━━━━━━━━\u001b[0m\u001b[37m\u001b[0m \u001b[1m0s\u001b[0m 10ms/step - disease_output_accuracy: 0.3388 - disease_output_loss: 2.6466 - loss: 6.4731 - prescription_output_accuracy: 0.1537 - prescription_output_loss: 3.8267\n",
            "Epoch 47/100\n",
            "\u001b[1m13/13\u001b[0m \u001b[32m━━━━━━━━━━━━━━━━━━━━\u001b[0m\u001b[37m\u001b[0m \u001b[1m0s\u001b[0m 11ms/step - disease_output_accuracy: 0.3767 - disease_output_loss: 2.5117 - loss: 6.2425 - prescription_output_accuracy: 0.2027 - prescription_output_loss: 3.7309\n",
            "Epoch 48/100\n",
            "\u001b[1m13/13\u001b[0m \u001b[32m━━━━━━━━━━━━━━━━━━━━\u001b[0m\u001b[37m\u001b[0m \u001b[1m0s\u001b[0m 9ms/step - disease_output_accuracy: 0.3859 - disease_output_loss: 2.5120 - loss: 6.2049 - prescription_output_accuracy: 0.2174 - prescription_output_loss: 3.6941\n",
            "Epoch 49/100\n",
            "\u001b[1m13/13\u001b[0m \u001b[32m━━━━━━━━━━━━━━━━━━━━\u001b[0m\u001b[37m\u001b[0m \u001b[1m0s\u001b[0m 9ms/step - disease_output_accuracy: 0.3826 - disease_output_loss: 2.4750 - loss: 6.1251 - prescription_output_accuracy: 0.2269 - prescription_output_loss: 3.6491\n",
            "Epoch 50/100\n",
            "\u001b[1m13/13\u001b[0m \u001b[32m━━━━━━━━━━━━━━━━━━━━\u001b[0m\u001b[37m\u001b[0m \u001b[1m0s\u001b[0m 9ms/step - disease_output_accuracy: 0.4249 - disease_output_loss: 2.3949 - loss: 6.0246 - prescription_output_accuracy: 0.2076 - prescription_output_loss: 3.6297\n",
            "Epoch 51/100\n",
            "\u001b[1m13/13\u001b[0m \u001b[32m━━━━━━━━━━━━━━━━━━━━\u001b[0m\u001b[37m\u001b[0m \u001b[1m0s\u001b[0m 10ms/step - disease_output_accuracy: 0.3785 - disease_output_loss: 2.4264 - loss: 6.0299 - prescription_output_accuracy: 0.2289 - prescription_output_loss: 3.6031\n",
            "Epoch 52/100\n",
            "\u001b[1m13/13\u001b[0m \u001b[32m━━━━━━━━━━━━━━━━━━━━\u001b[0m\u001b[37m\u001b[0m \u001b[1m0s\u001b[0m 9ms/step - disease_output_accuracy: 0.4208 - disease_output_loss: 2.3571 - loss: 5.8951 - prescription_output_accuracy: 0.2641 - prescription_output_loss: 3.5383\n",
            "Epoch 53/100\n",
            "\u001b[1m13/13\u001b[0m \u001b[32m━━━━━━━━━━━━━━━━━━━━\u001b[0m\u001b[37m\u001b[0m \u001b[1m0s\u001b[0m 11ms/step - disease_output_accuracy: 0.4195 - disease_output_loss: 2.2668 - loss: 5.7551 - prescription_output_accuracy: 0.2481 - prescription_output_loss: 3.4882\n",
            "Epoch 54/100\n",
            "\u001b[1m13/13\u001b[0m \u001b[32m━━━━━━━━━━━━━━━━━━━━\u001b[0m\u001b[37m\u001b[0m \u001b[1m0s\u001b[0m 10ms/step - disease_output_accuracy: 0.4563 - disease_output_loss: 2.2656 - loss: 5.7389 - prescription_output_accuracy: 0.2612 - prescription_output_loss: 3.4737\n",
            "Epoch 55/100\n",
            "\u001b[1m13/13\u001b[0m \u001b[32m━━━━━━━━━━━━━━━━━━━━\u001b[0m\u001b[37m\u001b[0m \u001b[1m0s\u001b[0m 9ms/step - disease_output_accuracy: 0.4149 - disease_output_loss: 2.2378 - loss: 5.6404 - prescription_output_accuracy: 0.2727 - prescription_output_loss: 3.4047\n",
            "Epoch 56/100\n",
            "\u001b[1m13/13\u001b[0m \u001b[32m━━━━━━━━━━━━━━━━━━━━\u001b[0m\u001b[37m\u001b[0m \u001b[1m0s\u001b[0m 10ms/step - disease_output_accuracy: 0.4261 - disease_output_loss: 2.2397 - loss: 5.6062 - prescription_output_accuracy: 0.3356 - prescription_output_loss: 3.3674\n",
            "Epoch 57/100\n",
            "\u001b[1m13/13\u001b[0m \u001b[32m━━━━━━━━━━━━━━━━━━━━\u001b[0m\u001b[37m\u001b[0m \u001b[1m0s\u001b[0m 17ms/step - disease_output_accuracy: 0.4341 - disease_output_loss: 2.2446 - loss: 5.6144 - prescription_output_accuracy: 0.2797 - prescription_output_loss: 3.3688\n",
            "Epoch 58/100\n",
            "\u001b[1m13/13\u001b[0m \u001b[32m━━━━━━━━━━━━━━━━━━━━\u001b[0m\u001b[37m\u001b[0m \u001b[1m0s\u001b[0m 14ms/step - disease_output_accuracy: 0.4992 - disease_output_loss: 2.1442 - loss: 5.5031 - prescription_output_accuracy: 0.2767 - prescription_output_loss: 3.3562\n",
            "Epoch 59/100\n",
            "\u001b[1m13/13\u001b[0m \u001b[32m━━━━━━━━━━━━━━━━━━━━\u001b[0m\u001b[37m\u001b[0m \u001b[1m0s\u001b[0m 13ms/step - disease_output_accuracy: 0.4844 - disease_output_loss: 2.0802 - loss: 5.3743 - prescription_output_accuracy: 0.2723 - prescription_output_loss: 3.2949\n",
            "Epoch 60/100\n",
            "\u001b[1m13/13\u001b[0m \u001b[32m━━━━━━━━━━━━━━━━━━━━\u001b[0m\u001b[37m\u001b[0m \u001b[1m0s\u001b[0m 13ms/step - disease_output_accuracy: 0.4751 - disease_output_loss: 2.1234 - loss: 5.3786 - prescription_output_accuracy: 0.3225 - prescription_output_loss: 3.2559\n",
            "Epoch 61/100\n",
            "\u001b[1m13/13\u001b[0m \u001b[32m━━━━━━━━━━━━━━━━━━━━\u001b[0m\u001b[37m\u001b[0m \u001b[1m0s\u001b[0m 13ms/step - disease_output_accuracy: 0.4596 - disease_output_loss: 2.0425 - loss: 5.2938 - prescription_output_accuracy: 0.2885 - prescription_output_loss: 3.2526\n",
            "Epoch 62/100\n",
            "\u001b[1m13/13\u001b[0m \u001b[32m━━━━━━━━━━━━━━━━━━━━\u001b[0m\u001b[37m\u001b[0m \u001b[1m0s\u001b[0m 15ms/step - disease_output_accuracy: 0.4773 - disease_output_loss: 2.0892 - loss: 5.3035 - prescription_output_accuracy: 0.2990 - prescription_output_loss: 3.2142\n",
            "Epoch 63/100\n",
            "\u001b[1m13/13\u001b[0m \u001b[32m━━━━━━━━━━━━━━━━━━━━\u001b[0m\u001b[37m\u001b[0m \u001b[1m0s\u001b[0m 15ms/step - disease_output_accuracy: 0.4534 - disease_output_loss: 2.0688 - loss: 5.3248 - prescription_output_accuracy: 0.2657 - prescription_output_loss: 3.2567\n",
            "Epoch 64/100\n",
            "\u001b[1m13/13\u001b[0m \u001b[32m━━━━━━━━━━━━━━━━━━━━\u001b[0m\u001b[37m\u001b[0m \u001b[1m0s\u001b[0m 11ms/step - disease_output_accuracy: 0.4476 - disease_output_loss: 2.0678 - loss: 5.3161 - prescription_output_accuracy: 0.2550 - prescription_output_loss: 3.2471\n",
            "Epoch 65/100\n",
            "\u001b[1m13/13\u001b[0m \u001b[32m━━━━━━━━━━━━━━━━━━━━\u001b[0m\u001b[37m\u001b[0m \u001b[1m0s\u001b[0m 9ms/step - disease_output_accuracy: 0.5061 - disease_output_loss: 1.9562 - loss: 5.1621 - prescription_output_accuracy: 0.2623 - prescription_output_loss: 3.2069\n",
            "Epoch 66/100\n",
            "\u001b[1m13/13\u001b[0m \u001b[32m━━━━━━━━━━━━━━━━━━━━\u001b[0m\u001b[37m\u001b[0m \u001b[1m0s\u001b[0m 9ms/step - disease_output_accuracy: 0.4683 - disease_output_loss: 2.0398 - loss: 5.1872 - prescription_output_accuracy: 0.2940 - prescription_output_loss: 3.1474\n",
            "Epoch 67/100\n",
            "\u001b[1m13/13\u001b[0m \u001b[32m━━━━━━━━━━━━━━━━━━━━\u001b[0m\u001b[37m\u001b[0m \u001b[1m0s\u001b[0m 10ms/step - disease_output_accuracy: 0.4811 - disease_output_loss: 1.9783 - loss: 5.1227 - prescription_output_accuracy: 0.3033 - prescription_output_loss: 3.1460\n",
            "Epoch 68/100\n",
            "\u001b[1m13/13\u001b[0m \u001b[32m━━━━━━━━━━━━━━━━━━━━\u001b[0m\u001b[37m\u001b[0m \u001b[1m0s\u001b[0m 9ms/step - disease_output_accuracy: 0.5040 - disease_output_loss: 1.9088 - loss: 5.0041 - prescription_output_accuracy: 0.3237 - prescription_output_loss: 3.0953\n",
            "Epoch 69/100\n",
            "\u001b[1m13/13\u001b[0m \u001b[32m━━━━━━━━━━━━━━━━━━━━\u001b[0m\u001b[37m\u001b[0m \u001b[1m0s\u001b[0m 10ms/step - disease_output_accuracy: 0.4982 - disease_output_loss: 1.9430 - loss: 4.9636 - prescription_output_accuracy: 0.3475 - prescription_output_loss: 3.0207\n",
            "Epoch 70/100\n",
            "\u001b[1m13/13\u001b[0m \u001b[32m━━━━━━━━━━━━━━━━━━━━\u001b[0m\u001b[37m\u001b[0m \u001b[1m0s\u001b[0m 9ms/step - disease_output_accuracy: 0.5746 - disease_output_loss: 1.8302 - loss: 4.8171 - prescription_output_accuracy: 0.3742 - prescription_output_loss: 2.9866\n",
            "Epoch 71/100\n",
            "\u001b[1m13/13\u001b[0m \u001b[32m━━━━━━━━━━━━━━━━━━━━\u001b[0m\u001b[37m\u001b[0m \u001b[1m0s\u001b[0m 11ms/step - disease_output_accuracy: 0.5396 - disease_output_loss: 1.8351 - loss: 4.7728 - prescription_output_accuracy: 0.3470 - prescription_output_loss: 2.9389\n",
            "Epoch 72/100\n",
            "\u001b[1m13/13\u001b[0m \u001b[32m━━━━━━━━━━━━━━━━━━━━\u001b[0m\u001b[37m\u001b[0m \u001b[1m0s\u001b[0m 9ms/step - disease_output_accuracy: 0.5382 - disease_output_loss: 1.7865 - loss: 4.7233 - prescription_output_accuracy: 0.3379 - prescription_output_loss: 2.9367\n",
            "Epoch 73/100\n",
            "\u001b[1m13/13\u001b[0m \u001b[32m━━━━━━━━━━━━━━━━━━━━\u001b[0m\u001b[37m\u001b[0m \u001b[1m0s\u001b[0m 10ms/step - disease_output_accuracy: 0.5767 - disease_output_loss: 1.7235 - loss: 4.6293 - prescription_output_accuracy: 0.3755 - prescription_output_loss: 2.9071\n",
            "Epoch 74/100\n",
            "\u001b[1m13/13\u001b[0m \u001b[32m━━━━━━━━━━━━━━━━━━━━\u001b[0m\u001b[37m\u001b[0m \u001b[1m0s\u001b[0m 9ms/step - disease_output_accuracy: 0.5414 - disease_output_loss: 1.8010 - loss: 4.6889 - prescription_output_accuracy: 0.3708 - prescription_output_loss: 2.8878\n",
            "Epoch 75/100\n",
            "\u001b[1m13/13\u001b[0m \u001b[32m━━━━━━━━━━━━━━━━━━━━\u001b[0m\u001b[37m\u001b[0m \u001b[1m0s\u001b[0m 9ms/step - disease_output_accuracy: 0.5455 - disease_output_loss: 1.7250 - loss: 4.5765 - prescription_output_accuracy: 0.3706 - prescription_output_loss: 2.8512\n",
            "Epoch 76/100\n",
            "\u001b[1m13/13\u001b[0m \u001b[32m━━━━━━━━━━━━━━━━━━━━\u001b[0m\u001b[37m\u001b[0m \u001b[1m0s\u001b[0m 9ms/step - disease_output_accuracy: 0.5629 - disease_output_loss: 1.6701 - loss: 4.4728 - prescription_output_accuracy: 0.4022 - prescription_output_loss: 2.8033\n",
            "Epoch 77/100\n",
            "\u001b[1m13/13\u001b[0m \u001b[32m━━━━━━━━━━━━━━━━━━━━\u001b[0m\u001b[37m\u001b[0m \u001b[1m0s\u001b[0m 11ms/step - disease_output_accuracy: 0.5857 - disease_output_loss: 1.6189 - loss: 4.4195 - prescription_output_accuracy: 0.3875 - prescription_output_loss: 2.8017\n",
            "Epoch 78/100\n",
            "\u001b[1m13/13\u001b[0m \u001b[32m━━━━━━━━━━━━━━━━━━━━\u001b[0m\u001b[37m\u001b[0m \u001b[1m0s\u001b[0m 10ms/step - disease_output_accuracy: 0.5671 - disease_output_loss: 1.6859 - loss: 4.4221 - prescription_output_accuracy: 0.4426 - prescription_output_loss: 2.7364\n",
            "Epoch 79/100\n",
            "\u001b[1m13/13\u001b[0m \u001b[32m━━━━━━━━━━━━━━━━━━━━\u001b[0m\u001b[37m\u001b[0m \u001b[1m0s\u001b[0m 9ms/step - disease_output_accuracy: 0.5907 - disease_output_loss: 1.6416 - loss: 4.3257 - prescription_output_accuracy: 0.4526 - prescription_output_loss: 2.6839\n",
            "Epoch 80/100\n",
            "\u001b[1m13/13\u001b[0m \u001b[32m━━━━━━━━━━━━━━━━━━━━\u001b[0m\u001b[37m\u001b[0m \u001b[1m0s\u001b[0m 9ms/step - disease_output_accuracy: 0.6719 - disease_output_loss: 1.5460 - loss: 4.2252 - prescription_output_accuracy: 0.4128 - prescription_output_loss: 2.6821\n",
            "Epoch 81/100\n",
            "\u001b[1m13/13\u001b[0m \u001b[32m━━━━━━━━━━━━━━━━━━━━\u001b[0m\u001b[37m\u001b[0m \u001b[1m0s\u001b[0m 9ms/step - disease_output_accuracy: 0.6414 - disease_output_loss: 1.5088 - loss: 4.1524 - prescription_output_accuracy: 0.4666 - prescription_output_loss: 2.6445\n",
            "Epoch 82/100\n",
            "\u001b[1m13/13\u001b[0m \u001b[32m━━━━━━━━━━━━━━━━━━━━\u001b[0m\u001b[37m\u001b[0m \u001b[1m0s\u001b[0m 11ms/step - disease_output_accuracy: 0.5855 - disease_output_loss: 1.5691 - loss: 4.1891 - prescription_output_accuracy: 0.4343 - prescription_output_loss: 2.6196\n",
            "Epoch 83/100\n",
            "\u001b[1m13/13\u001b[0m \u001b[32m━━━━━━━━━━━━━━━━━━━━\u001b[0m\u001b[37m\u001b[0m \u001b[1m0s\u001b[0m 10ms/step - disease_output_accuracy: 0.6169 - disease_output_loss: 1.5483 - loss: 4.1739 - prescription_output_accuracy: 0.4457 - prescription_output_loss: 2.6262\n",
            "Epoch 84/100\n",
            "\u001b[1m13/13\u001b[0m \u001b[32m━━━━━━━━━━━━━━━━━━━━\u001b[0m\u001b[37m\u001b[0m \u001b[1m0s\u001b[0m 9ms/step - disease_output_accuracy: 0.6387 - disease_output_loss: 1.5228 - loss: 4.0860 - prescription_output_accuracy: 0.4828 - prescription_output_loss: 2.5639\n",
            "Epoch 85/100\n",
            "\u001b[1m13/13\u001b[0m \u001b[32m━━━━━━━━━━━━━━━━━━━━\u001b[0m\u001b[37m\u001b[0m \u001b[1m0s\u001b[0m 9ms/step - disease_output_accuracy: 0.6385 - disease_output_loss: 1.4614 - loss: 3.9348 - prescription_output_accuracy: 0.5107 - prescription_output_loss: 2.4746\n",
            "Epoch 86/100\n",
            "\u001b[1m13/13\u001b[0m \u001b[32m━━━━━━━━━━━━━━━━━━━━\u001b[0m\u001b[37m\u001b[0m \u001b[1m0s\u001b[0m 10ms/step - disease_output_accuracy: 0.6338 - disease_output_loss: 1.4525 - loss: 3.9762 - prescription_output_accuracy: 0.4919 - prescription_output_loss: 2.5231\n",
            "Epoch 87/100\n",
            "\u001b[1m13/13\u001b[0m \u001b[32m━━━━━━━━━━━━━━━━━━━━\u001b[0m\u001b[37m\u001b[0m \u001b[1m0s\u001b[0m 9ms/step - disease_output_accuracy: 0.6672 - disease_output_loss: 1.4264 - loss: 3.9224 - prescription_output_accuracy: 0.4829 - prescription_output_loss: 2.4963\n",
            "Epoch 88/100\n",
            "\u001b[1m13/13\u001b[0m \u001b[32m━━━━━━━━━━━━━━━━━━━━\u001b[0m\u001b[37m\u001b[0m \u001b[1m0s\u001b[0m 9ms/step - disease_output_accuracy: 0.6573 - disease_output_loss: 1.4454 - loss: 3.9252 - prescription_output_accuracy: 0.5026 - prescription_output_loss: 2.4796\n",
            "Epoch 89/100\n",
            "\u001b[1m13/13\u001b[0m \u001b[32m━━━━━━━━━━━━━━━━━━━━\u001b[0m\u001b[37m\u001b[0m \u001b[1m0s\u001b[0m 9ms/step - disease_output_accuracy: 0.6978 - disease_output_loss: 1.3548 - loss: 3.8014 - prescription_output_accuracy: 0.4978 - prescription_output_loss: 2.4469\n",
            "Epoch 90/100\n",
            "\u001b[1m13/13\u001b[0m \u001b[32m━━━━━━━━━━━━━━━━━━━━\u001b[0m\u001b[37m\u001b[0m \u001b[1m0s\u001b[0m 9ms/step - disease_output_accuracy: 0.6756 - disease_output_loss: 1.4275 - loss: 3.8528 - prescription_output_accuracy: 0.4769 - prescription_output_loss: 2.4256\n",
            "Epoch 91/100\n",
            "\u001b[1m13/13\u001b[0m \u001b[32m━━━━━━━━━━━━━━━━━━━━\u001b[0m\u001b[37m\u001b[0m \u001b[1m0s\u001b[0m 9ms/step - disease_output_accuracy: 0.6612 - disease_output_loss: 1.3794 - loss: 3.7930 - prescription_output_accuracy: 0.5387 - prescription_output_loss: 2.4140\n",
            "Epoch 92/100\n",
            "\u001b[1m13/13\u001b[0m \u001b[32m━━━━━━━━━━━━━━━━━━━━\u001b[0m\u001b[37m\u001b[0m \u001b[1m0s\u001b[0m 9ms/step - disease_output_accuracy: 0.7008 - disease_output_loss: 1.3151 - loss: 3.6265 - prescription_output_accuracy: 0.5382 - prescription_output_loss: 2.3117\n",
            "Epoch 93/100\n",
            "\u001b[1m13/13\u001b[0m \u001b[32m━━━━━━━━━━━━━━━━━━━━\u001b[0m\u001b[37m\u001b[0m \u001b[1m0s\u001b[0m 11ms/step - disease_output_accuracy: 0.7199 - disease_output_loss: 1.3050 - loss: 3.6173 - prescription_output_accuracy: 0.5544 - prescription_output_loss: 2.3134\n",
            "Epoch 94/100\n",
            "\u001b[1m13/13\u001b[0m \u001b[32m━━━━━━━━━━━━━━━━━━━━\u001b[0m\u001b[37m\u001b[0m \u001b[1m0s\u001b[0m 11ms/step - disease_output_accuracy: 0.7005 - disease_output_loss: 1.2983 - loss: 3.6152 - prescription_output_accuracy: 0.5503 - prescription_output_loss: 2.3173\n",
            "Epoch 95/100\n",
            "\u001b[1m13/13\u001b[0m \u001b[32m━━━━━━━━━━━━━━━━━━━━\u001b[0m\u001b[37m\u001b[0m \u001b[1m0s\u001b[0m 10ms/step - disease_output_accuracy: 0.6947 - disease_output_loss: 1.2943 - loss: 3.5846 - prescription_output_accuracy: 0.5611 - prescription_output_loss: 2.2905\n",
            "Epoch 96/100\n",
            "\u001b[1m13/13\u001b[0m \u001b[32m━━━━━━━━━━━━━━━━━━━━\u001b[0m\u001b[37m\u001b[0m \u001b[1m0s\u001b[0m 9ms/step - disease_output_accuracy: 0.6996 - disease_output_loss: 1.2533 - loss: 3.5093 - prescription_output_accuracy: 0.5704 - prescription_output_loss: 2.2568\n",
            "Epoch 97/100\n",
            "\u001b[1m13/13\u001b[0m \u001b[32m━━━━━━━━━━━━━━━━━━━━\u001b[0m\u001b[37m\u001b[0m \u001b[1m0s\u001b[0m 9ms/step - disease_output_accuracy: 0.7010 - disease_output_loss: 1.2959 - loss: 3.5437 - prescription_output_accuracy: 0.5662 - prescription_output_loss: 2.2483\n",
            "Epoch 98/100\n",
            "\u001b[1m13/13\u001b[0m \u001b[32m━━━━━━━━━━━━━━━━━━━━\u001b[0m\u001b[37m\u001b[0m \u001b[1m0s\u001b[0m 10ms/step - disease_output_accuracy: 0.7081 - disease_output_loss: 1.1893 - loss: 3.3450 - prescription_output_accuracy: 0.5911 - prescription_output_loss: 2.1574\n",
            "Epoch 99/100\n",
            "\u001b[1m13/13\u001b[0m \u001b[32m━━━━━━━━━━━━━━━━━━━━\u001b[0m\u001b[37m\u001b[0m \u001b[1m0s\u001b[0m 9ms/step - disease_output_accuracy: 0.7285 - disease_output_loss: 1.2008 - loss: 3.3103 - prescription_output_accuracy: 0.6226 - prescription_output_loss: 2.1100\n",
            "Epoch 100/100\n",
            "\u001b[1m13/13\u001b[0m \u001b[32m━━━━━━━━━━━━━━━━━━━━\u001b[0m\u001b[37m\u001b[0m \u001b[1m0s\u001b[0m 10ms/step - disease_output_accuracy: 0.7567 - disease_output_loss: 1.2123 - loss: 3.3907 - prescription_output_accuracy: 0.5878 - prescription_output_loss: 2.1786\n"
          ]
        },
        {
          "output_type": "execute_result",
          "data": {
            "text/plain": [
              "<keras.src.callbacks.history.History at 0x7be1e74129f0>"
            ]
          },
          "metadata": {},
          "execution_count": 16
        }
      ]
    },
    {
      "cell_type": "markdown",
      "source": [
        "## Making the Prediction"
      ],
      "metadata": {
        "id": "Au0Xsf9x0XCo"
      }
    },
    {
      "cell_type": "code",
      "source": [
        "def make_prediction(patient_problem):\n",
        "  #Preprocessing the input\n",
        "  sequence = tokenizer.texts_to_sequences([patient_problem])\n",
        "  padded_sequence = pad_sequences(sequence, maxlen=max_length, padding='post')\n",
        "\n",
        "  #Making the prediction\n",
        "  predictions = model.predict(padded_sequence)\n",
        "\n",
        "  # Decoding the prediction\n",
        "  disease_index = np.argmax(predictions[0],axis=1)[0]\n",
        "  prescription_index = np.argmax(predictions[1],axis=1)[0]\n",
        "\n",
        "  disease_predicted = label_encoder_disease.inverse_transform([disease_index])[0]\n",
        "  prescription_predicted = label_encoder_prescription.inverse_transform([prescription_index])[0]\n",
        "\n",
        "  print(f\"Predicted Disease:{disease_predicted}\")\n",
        "  print(f\"Predicted Prescription:{prescription_predicted}\")"
      ],
      "metadata": {
        "id": "IoX2pGap0Zl4"
      },
      "execution_count": 17,
      "outputs": []
    },
    {
      "cell_type": "code",
      "source": [
        "patient_input = \"I've experienced a loss of appetite and don't enjoy food anymore.\"\n",
        "make_prediction(patient_input)"
      ],
      "metadata": {
        "id": "-NwuIxmA1iR_",
        "outputId": "1570b2f1-dde8-4480-f8a0-0aaa6e67f053",
        "colab": {
          "base_uri": "https://localhost:8080/"
        }
      },
      "execution_count": 18,
      "outputs": [
        {
          "output_type": "stream",
          "name": "stdout",
          "text": [
            "\u001b[1m1/1\u001b[0m \u001b[32m━━━━━━━━━━━━━━━━━━━━\u001b[0m\u001b[37m\u001b[0m \u001b[1m0s\u001b[0m 199ms/step\n",
            "Predicted Disease:Depression\n",
            "Predicted Prescription:Antidepressants; eating nutrient-rich foods.\n"
          ]
        }
      ]
    },
    {
      "cell_type": "code",
      "source": [
        "patient_input=\"feeling warm or having a high body temperature, chills, shivering, headaches, muscle aches, fatigue, and loss of appetite\"\n",
        "make_prediction(patient_input)"
      ],
      "metadata": {
        "id": "RhFd71Bs1pb8",
        "outputId": "e048cec9-1872-4a9a-cab4-26f960744f4e",
        "colab": {
          "base_uri": "https://localhost:8080/"
        }
      },
      "execution_count": 19,
      "outputs": [
        {
          "output_type": "stream",
          "name": "stdout",
          "text": [
            "\u001b[1m1/1\u001b[0m \u001b[32m━━━━━━━━━━━━━━━━━━━━\u001b[0m\u001b[37m\u001b[0m \u001b[1m0s\u001b[0m 30ms/step\n",
            "Predicted Disease:Thyroid Nodule\n",
            "Predicted Prescription:Regular monitoring; possible surgery if it grows or changes.\n"
          ]
        }
      ]
    },
    {
      "cell_type": "code",
      "source": [],
      "metadata": {
        "id": "7BSqGvrH1t1m"
      },
      "execution_count": null,
      "outputs": []
    }
  ]
}